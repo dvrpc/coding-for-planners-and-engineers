{
 "cells": [
  {
   "cell_type": "markdown",
   "id": "636f7051-7db8-4a1c-80cc-9b75e202ef32",
   "metadata": {},
   "source": [
    "# Python 101\n",
    "\n",
    "This file is intended to introduce Python to someone who has never used it before.\n",
    "\n",
    "However, this is not an exhaustive Python tutorial! Many great resources already exist.\n",
    "\n",
    "Let's start with the basics: \n",
    "\n",
    "## Math"
   ]
  },
  {
   "cell_type": "code",
   "execution_count": 1,
   "id": "9e23fbc4-7a56-40de-a31c-109701b31a94",
   "metadata": {},
   "outputs": [
    {
     "data": {
      "text/plain": [
       "-8"
      ]
     },
     "execution_count": 1,
     "metadata": {},
     "output_type": "execute_result"
    }
   ],
   "source": [
    "# Adding and subtracting works as expected\n",
    "\n",
    "1 + 1 - 10"
   ]
  },
  {
   "cell_type": "code",
   "execution_count": 2,
   "id": "0578d0f6-bb58-488b-8ab6-9a36b137fa21",
   "metadata": {},
   "outputs": [
    {
     "data": {
      "text/plain": [
       "10"
      ]
     },
     "execution_count": 2,
     "metadata": {},
     "output_type": "execute_result"
    }
   ],
   "source": [
    "# Multiplication uses the star symbol\n",
    "\n",
    "2 * 5"
   ]
  },
  {
   "cell_type": "code",
   "execution_count": 3,
   "id": "6af63a24-e8c4-4697-af6d-2320fd0432f5",
   "metadata": {},
   "outputs": [
    {
     "data": {
      "text/plain": [
       "0.6666666666666666"
      ]
     },
     "execution_count": 3,
     "metadata": {},
     "output_type": "execute_result"
    }
   ],
   "source": [
    "# Division uses the slash symbol\n",
    "\n",
    "2 / 3"
   ]
  },
  {
   "cell_type": "code",
   "execution_count": 4,
   "id": "7618cf80-1507-41ef-93c7-ab0f780ee295",
   "metadata": {},
   "outputs": [
    {
     "data": {
      "text/plain": [
       "1024"
      ]
     },
     "execution_count": 4,
     "metadata": {},
     "output_type": "execute_result"
    }
   ],
   "source": [
    "# Double star calculates powers\n",
    "\n",
    "2 ** 10"
   ]
  },
  {
   "cell_type": "markdown",
   "id": "e40270dc-33b1-4e77-bd7d-c4c5a2adda59",
   "metadata": {},
   "source": [
    "## Variables\n",
    "\n",
    "You can \"save\" a value within a variable using the `=` sign."
   ]
  },
  {
   "cell_type": "code",
   "execution_count": 5,
   "id": "07021ba0-3680-4a57-8a44-ffa593b9babc",
   "metadata": {},
   "outputs": [
    {
     "data": {
      "text/plain": [
       "20"
      ]
     },
     "execution_count": 5,
     "metadata": {},
     "output_type": "execute_result"
    }
   ],
   "source": [
    "a = 10\n",
    "b = 2\n",
    "\n",
    "a * b"
   ]
  },
  {
   "cell_type": "markdown",
   "id": "aa665e83-3f03-4c11-aa13-af44e0f21967",
   "metadata": {},
   "source": [
    "You can save any kind of data type within a variable:"
   ]
  },
  {
   "cell_type": "code",
   "execution_count": 6,
   "id": "2d718731-9405-4358-91b7-86ec66624b50",
   "metadata": {},
   "outputs": [],
   "source": [
    "c = \"This is a string of text\"\n",
    "d = True\n",
    "e = 100.23"
   ]
  },
  {
   "cell_type": "markdown",
   "id": "02ade15d-9bfc-467e-b0c6-31c762806fd5",
   "metadata": {},
   "source": [
    "## Equality\n",
    "\n",
    "You can test if two things are the same using two equal signs: `==`\n",
    "\n",
    "The returned value is a boolean `True` or `False`"
   ]
  },
  {
   "cell_type": "code",
   "execution_count": 7,
   "id": "61a4380b-c7ec-4e81-ad2f-744f79a7e26e",
   "metadata": {},
   "outputs": [
    {
     "data": {
      "text/plain": [
       "True"
      ]
     },
     "execution_count": 7,
     "metadata": {},
     "output_type": "execute_result"
    }
   ],
   "source": [
    "5 == 5"
   ]
  },
  {
   "cell_type": "code",
   "execution_count": 8,
   "id": "ecd2dc16-fac9-484e-8eff-06ae8e4712ab",
   "metadata": {},
   "outputs": [
    {
     "data": {
      "text/plain": [
       "False"
      ]
     },
     "execution_count": 8,
     "metadata": {},
     "output_type": "execute_result"
    }
   ],
   "source": [
    "a == b"
   ]
  },
  {
   "cell_type": "code",
   "execution_count": 9,
   "id": "8449b3cb-2982-4ebc-aba1-6f05cf986cd0",
   "metadata": {},
   "outputs": [
    {
     "data": {
      "text/plain": [
       "False"
      ]
     },
     "execution_count": 9,
     "metadata": {},
     "output_type": "execute_result"
    }
   ],
   "source": [
    "# Text comparisons are case-sensitive\n",
    "\n",
    "\"python\" == \"Python\""
   ]
  },
  {
   "cell_type": "markdown",
   "id": "ca51debd-7164-411b-9936-d35648515e0a",
   "metadata": {},
   "source": [
    "## If\n",
    "\n",
    "You can use conditional statements with `if`, `elif`, and `else`. All logic must be tabbed-in underneath the condition."
   ]
  },
  {
   "cell_type": "code",
   "execution_count": 10,
   "id": "aa7318e5-bc00-42e6-9bc2-0c971badba91",
   "metadata": {},
   "outputs": [
    {
     "name": "stdout",
     "output_type": "stream",
     "text": [
      "High\n"
     ]
    }
   ],
   "source": [
    "number = 10\n",
    "\n",
    "if number <= 0:\n",
    "    result = \"Low\"\n",
    "elif number < 5:\n",
    "    result = \"Medium\"\n",
    "else:\n",
    "    result = \"High\"\n",
    "    \n",
    "print(result)"
   ]
  },
  {
   "cell_type": "markdown",
   "id": "6aee4eab-4aa5-4961-a7c8-00c02c435682",
   "metadata": {},
   "source": [
    "## For\n",
    "\n",
    "You can iterate over objects in Python, performing a chunk of code on each element in the array."
   ]
  },
  {
   "cell_type": "code",
   "execution_count": 11,
   "id": "8962bc42-c70a-4cd1-bef1-752ce1481c22",
   "metadata": {},
   "outputs": [
    {
     "name": "stdout",
     "output_type": "stream",
     "text": [
      "3\n",
      "6\n",
      "9\n",
      "12\n",
      "15\n"
     ]
    }
   ],
   "source": [
    "num_list = [1, 2, 3, 4, 5]\n",
    "\n",
    "for num in num_list:\n",
    "    \n",
    "    multiplied_val = num * 3\n",
    "\n",
    "    print(multiplied_val)"
   ]
  },
  {
   "cell_type": "markdown",
   "id": "a51c8662-60cc-48d3-8857-29e2fe0d834d",
   "metadata": {},
   "source": [
    "## Functions\n",
    "\n",
    "As you work on projects, you'll find yourself repeating certain lines of code over and over. These chunks of code can be refactored (rewritten) into a function that's defined once and then called as needed.\n",
    "\n",
    "Functions are defined with the `def` keyword and typically include a triple-quoted description known as the \"docstring\"."
   ]
  },
  {
   "cell_type": "code",
   "execution_count": 12,
   "id": "f4e2e1b0-c6a8-469d-9578-041daa6fd90c",
   "metadata": {},
   "outputs": [],
   "source": [
    "def repeat_text(txt, num_times):\n",
    "    \"\"\" This function prints text a certain number of times \"\"\"\n",
    "    \n",
    "    for _ in range(num_times):\n",
    "        print(txt)"
   ]
  },
  {
   "cell_type": "code",
   "execution_count": 13,
   "id": "9f2b2f05-6821-4279-bcf0-13604ca17ca9",
   "metadata": {},
   "outputs": [
    {
     "name": "stdout",
     "output_type": "stream",
     "text": [
      "Gritty\n",
      "Gritty\n",
      "Gritty\n"
     ]
    }
   ],
   "source": [
    "repeat_text(\"Gritty\", 3)"
   ]
  }
 ],
 "metadata": {
  "kernelspec": {
   "display_name": "Python 3",
   "language": "python",
   "name": "python3"
  },
  "language_info": {
   "codemirror_mode": {
    "name": "ipython",
    "version": 3
   },
   "file_extension": ".py",
   "mimetype": "text/x-python",
   "name": "python",
   "nbconvert_exporter": "python",
   "pygments_lexer": "ipython3",
   "version": "3.8.5"
  }
 },
 "nbformat": 4,
 "nbformat_minor": 5
}
