{
 "cells": [
  {
   "cell_type": "markdown",
   "id": "6f9cba21-056e-4a68-a6a2-2beac4591759",
   "metadata": {},
   "source": [
    "# Python 202\n",
    "\n",
    "## Classes\n",
    "\n",
    "You may find the need to define a `class` in Python, which defines the attributes and methods of an \"object\". "
   ]
  },
  {
   "cell_type": "code",
   "execution_count": 1,
   "id": "97455169-36e0-464a-ab27-f0a58cb3d02b",
   "metadata": {},
   "outputs": [],
   "source": [
    "class SportsBall:\n",
    "    \n",
    "    def __init__(self, sport: str, shape: str, color: str):\n",
    "        self.sport = sport\n",
    "        self.shape = shape\n",
    "        self.color = color\n",
    "        \n",
    "    def summary(self):\n",
    "        print(\"Class : \\t\", self.__class__)\n",
    "        for key, value in self.__dict__.items():\n",
    "            print(key, \": \\t\", value)"
   ]
  },
  {
   "cell_type": "code",
   "execution_count": 2,
   "id": "fd44a386-b45d-45a7-a0b2-7311e5cd8ee6",
   "metadata": {},
   "outputs": [
    {
     "name": "stdout",
     "output_type": "stream",
     "text": [
      "Class : \t <class '__main__.SportsBall'>\n",
      "sport : \t Ping Pong\n",
      "shape : \t Sphere\n",
      "color : \t White\n"
     ]
    }
   ],
   "source": [
    "ball = SportsBall(\"Ping Pong\", \"Sphere\", \"White\")\n",
    "\n",
    "ball.summary()"
   ]
  },
  {
   "cell_type": "markdown",
   "id": "9c84f017-c457-4c83-80f5-f98a91a38ac9",
   "metadata": {},
   "source": [
    "Classes can inherit from other classes, as shown in the example below."
   ]
  },
  {
   "cell_type": "code",
   "execution_count": 3,
   "id": "f9911427-4295-4e21-a431-168de06e510e",
   "metadata": {},
   "outputs": [],
   "source": [
    "class TennisBall(SportsBall):\n",
    "\n",
    "    def __init__(self):\n",
    "\n",
    "        SportsBall.__init__(self, \"Tennis\", \"Sphere\", \"Yellow\")\n",
    "\n",
    "        self.fuzzy = True"
   ]
  },
  {
   "cell_type": "code",
   "execution_count": 4,
   "id": "e370b621-260d-40fa-97f2-9f8b8bccd223",
   "metadata": {},
   "outputs": [
    {
     "name": "stdout",
     "output_type": "stream",
     "text": [
      "Class : \t <class '__main__.TennisBall'>\n",
      "sport : \t Tennis\n",
      "shape : \t Sphere\n",
      "color : \t Yellow\n",
      "fuzzy : \t True\n"
     ]
    }
   ],
   "source": [
    "ball = TennisBall()\n",
    "\n",
    "ball.summary()"
   ]
  },
  {
   "cell_type": "markdown",
   "id": "c231ff07-1dd9-4b4b-9b49-e7194a25e415",
   "metadata": {},
   "source": [
    "## List Comprehension\n",
    "\n",
    "You may find yourself building a list of things by way of a `for` loop. If your logic is reasonably concise you can refactor the code from a multi-line for loop into a one-line \"list comprehension\". This tightens up your code and more importantly provides faster processing times."
   ]
  },
  {
   "cell_type": "code",
   "execution_count": 5,
   "id": "8b5dd577-f18d-482e-b24e-30bad64e480d",
   "metadata": {},
   "outputs": [],
   "source": [
    "# Make a list of numbers from 1 to 25\n",
    "my_list = list(range(1, 26))"
   ]
  },
  {
   "cell_type": "code",
   "execution_count": 6,
   "id": "e6a9c94e-6dda-4cb8-8dc6-5510ee43fecb",
   "metadata": {},
   "outputs": [
    {
     "name": "stdout",
     "output_type": "stream",
     "text": [
      "[2, 4, 6, 8, 10, 12, 14, 16, 18, 20, 22, 24]\n"
     ]
    }
   ],
   "source": [
    "# Make a list of even values with a for loop\n",
    "result = []\n",
    "for num in my_list:\n",
    "    if num % 2 == 0:\n",
    "        result.append(num)\n",
    "        \n",
    "print(result)"
   ]
  },
  {
   "cell_type": "code",
   "execution_count": 7,
   "id": "a4f0b548-746a-4b74-8fd9-dd41d1da6156",
   "metadata": {},
   "outputs": [
    {
     "name": "stdout",
     "output_type": "stream",
     "text": [
      "[2, 4, 6, 8, 10, 12, 14, 16, 18, 20, 22, 24]\n"
     ]
    }
   ],
   "source": [
    "# Do the same thing, but with list comprehension\n",
    "result = [x for x in my_list if x % 2 == 0]\n",
    "\n",
    "print(result)"
   ]
  },
  {
   "cell_type": "markdown",
   "id": "9699b54c-5c92-4318-b154-5ec670f129a1",
   "metadata": {},
   "source": [
    "## Argument Unpacking\n",
    "\n",
    "If you have an array of objects named `my_list`, using `*my_list` will create a generator object that \"unpacks\" each item in the array. You can use this in a number of contexts, including function calls:"
   ]
  },
  {
   "cell_type": "code",
   "execution_count": 8,
   "id": "c96c4abe-5bbf-4d01-9abf-d81b9730f75a",
   "metadata": {},
   "outputs": [
    {
     "name": "stdout",
     "output_type": "stream",
     "text": [
      "Class : \t <class '__main__.SportsBall'>\n",
      "sport : \t Football\n",
      "shape : \t Oval\n",
      "color : \t Brown\n"
     ]
    }
   ],
   "source": [
    "my_args = [\"Football\", \"Oval\", \"Brown\"]\n",
    "\n",
    "ball = SportsBall(*my_args)\n",
    "\n",
    "ball.summary()"
   ]
  },
  {
   "cell_type": "markdown",
   "id": "9c3f2a6c-c886-4c04-8de9-41bce3bb1c2c",
   "metadata": {},
   "source": [
    "## Keyword Argument Unpacking\n",
    "\n",
    "Some functions and classes require keyword arguments, which look like this:\n",
    "\n",
    "`my_function(keyword=value)`\n",
    "\n",
    "Functions with positional arguments can be used with keywords as well. Both examples below are equivalent:\n",
    "\n",
    "`SportsBall(\"Football\", \"Oval\", \"Brown\")`\n",
    "\n",
    "`SportsBall(sport=\"Football\", shape=\"Oval\", color=\"Brown\")`\n",
    "\n",
    "To use unpacking with keyword arguments, define a dictionary and use a double star in front of it when unpacking. As shown below:"
   ]
  },
  {
   "cell_type": "code",
   "execution_count": 9,
   "id": "72c07dfa-cde5-424d-a93b-579a5f9f0878",
   "metadata": {},
   "outputs": [
    {
     "name": "stdout",
     "output_type": "stream",
     "text": [
      "Class : \t <class '__main__.SportsBall'>\n",
      "sport : \t Football\n",
      "shape : \t Oval\n",
      "color : \t Brown\n"
     ]
    }
   ],
   "source": [
    "keyword_arguments = {\n",
    "    \"sport\": \"Football\",\n",
    "    \"shape\": \"Oval\",\n",
    "    \"color\": \"Brown\",\n",
    "}\n",
    "\n",
    "ball = SportsBall(**keyword_arguments)\n",
    "\n",
    "ball.summary()"
   ]
  }
 ],
 "metadata": {
  "kernelspec": {
   "display_name": "Python 3",
   "language": "python",
   "name": "python3"
  },
  "language_info": {
   "codemirror_mode": {
    "name": "ipython",
    "version": 3
   },
   "file_extension": ".py",
   "mimetype": "text/x-python",
   "name": "python",
   "nbconvert_exporter": "python",
   "pygments_lexer": "ipython3",
   "version": "3.8.5"
  }
 },
 "nbformat": 4,
 "nbformat_minor": 5
}
